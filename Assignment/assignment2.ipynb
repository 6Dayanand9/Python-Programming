{
 "cells": [
  {
   "cell_type": "markdown",
   "id": "025e30d8",
   "metadata": {},
   "source": [
    "# Module 2: Control Flow Assignments\n",
    "## Lesson 2.1: Conditional Statements\n",
    "### Assignment 1: Simple if Statement\n",
    "\n",
    "Write a program that asks the user to input a number and prints whether the number is positive.\n",
    "\n",
    "### Assignment 2: if-else Statement\n",
    "\n",
    "Write a program that asks the user to input a number and prints whether the number is positive or negative.\n",
    "\n",
    "### Assignment 3: if-elif-else Statement\n",
    "\n",
    "Write a program that asks the user to input a number and prints whether the number is positive, negative, or zero.\n",
    "\n",
    "### Assignment 4: Nested if Statement\n",
    "\n",
    "Write a program that asks the user to input a number and prints whether the number is positive and even, positive and odd, or negative.\n",
    "\n",
    "## Lesson 2.2: Loops\n",
    "### Assignment 5: for Loop\n",
    "\n",
    "Write a program that prints all the numbers from 1 to 10 using a for loop.\n",
    "\n",
    "### Assignment 6: while Loop\n",
    "\n",
    "Write a program that prints all the numbers from 1 to 10 using a while loop.\n",
    "\n",
    "### Assignment 7: Nested Loops\n",
    "\n",
    "Write a program that prints a 5x5 grid of asterisks (*) using nested loops.\n",
    "\n",
    "### Assignment 8: break Statement\n",
    "\n",
    "Write a program that asks the user to input numbers until they input 0. The program should print the sum of all the input numbers.\n",
    "\n",
    "### Assignment 9: continue Statement\n",
    "\n",
    "Write a program that prints all the numbers from 1 to 10 except 5 using a for loop and continue statement.\n",
    "\n",
    "### Assignment 10: pass Statement\n",
    "\n",
    "Write a program that defines an empty function using the pass statement.\n",
    "\n",
    "### Assignment 11: Combining Loops and Conditionals\n",
    "\n",
    "Write a program that asks the user to input a number and prints all the even numbers from 1 to that number using a for loop.\n",
    "\n",
    "### Assignment 12: Factorial Calculation\n",
    "\n",
    "Write a program that calculates the factorial of a number input by the user using a while loop.\n",
    "\n",
    "### Assignment 13: Sum of Digits\n",
    "\n",
    "Write a program that calculates the sum of the digits of a number input by the user using a while loop.\n",
    "\n",
    "### Assignment 14: Prime Number Check\n",
    "\n",
    "Write a program that checks if a number input by the user is a prime number using a for loop.\n",
    "\n",
    "### Assignment 15: Fibonacci Sequence\n",
    "\n",
    "Write a program that prints the first n Fibonacci numbers, where n is input by the user."
   ]
  },
  {
   "cell_type": "markdown",
   "id": "a7c31ab8",
   "metadata": {},
   "source": [
    " Write a program that asks the user to input a number and prints whether the number is positive."
   ]
  },
  {
   "cell_type": "code",
   "execution_count": 9,
   "id": "6b4259c6",
   "metadata": {},
   "outputs": [],
   "source": [
    "num = int(input(\"Enter Num :\"))\n",
    "if num>0:\n",
    "    print(num,\"is positive\")\n",
    "\n"
   ]
  },
  {
   "cell_type": "markdown",
   "id": "3bdc0771",
   "metadata": {},
   "source": [
    "Write a program that asks the user to input a number and prints whether the number is positive or negative"
   ]
  },
  {
   "cell_type": "code",
   "execution_count": 10,
   "id": "a590eaa1",
   "metadata": {},
   "outputs": [
    {
     "name": "stdout",
     "output_type": "stream",
     "text": [
      "1 is positive\n"
     ]
    }
   ],
   "source": [
    "num = int(input(\"Enter Num :\"))\n",
    "if num>0:\n",
    "    print(num,\"is positive\")\n",
    "\n",
    "else:\n",
    "    print(num,\"is Negative\")"
   ]
  },
  {
   "cell_type": "markdown",
   "id": "0356e0e8",
   "metadata": {},
   "source": [
    "Write a program that asks the user to input a number and prints whether the number is positive, negative, or zero."
   ]
  },
  {
   "cell_type": "code",
   "execution_count": 8,
   "id": "7a598e36",
   "metadata": {},
   "outputs": [
    {
     "name": "stdout",
     "output_type": "stream",
     "text": [
      "0 is Zero\n"
     ]
    }
   ],
   "source": [
    "num = int(input(\"Enter Num :\"))\n",
    "if num == 0:\n",
    "    print(\" num is Zero\")\n",
    "elif num>0:\n",
    "    print(num,\"is positive\")\n",
    "\n",
    "else:\n",
    "    print(num,\"is Negative\")"
   ]
  },
  {
   "cell_type": "markdown",
   "id": "1785e8f6",
   "metadata": {},
   "source": [
    "Write a program that asks the user to input a number and prints whether the number is positive and even, positive and odd, or negative."
   ]
  },
  {
   "cell_type": "code",
   "execution_count": 16,
   "id": "765d6471",
   "metadata": {},
   "outputs": [
    {
     "name": "stdout",
     "output_type": "stream",
     "text": [
      "-12 is Negative\n"
     ]
    }
   ],
   "source": [
    "num = int(input(\"Enter Num :\"))\n",
    "if num >0:\n",
    "    print(\"The num is Positive\")\n",
    "    if num %2==0:\n",
    "        print(num,\"is even\")\n",
    "    \n",
    "    else:\n",
    "        print(num,\"the num is odd\")\n",
    "\n",
    "else:\n",
    "    print(num,\"is Negative\")"
   ]
  },
  {
   "cell_type": "markdown",
   "id": "7f434f63",
   "metadata": {},
   "source": [
    "Write a program that prints all the numbers from 1 to 10 using a for loop."
   ]
  },
  {
   "cell_type": "code",
   "execution_count": 17,
   "id": "f5daee26",
   "metadata": {},
   "outputs": [
    {
     "name": "stdout",
     "output_type": "stream",
     "text": [
      "1\n",
      "2\n",
      "3\n",
      "4\n",
      "5\n",
      "6\n",
      "7\n",
      "8\n",
      "9\n"
     ]
    }
   ],
   "source": [
    "for i in range(1,10):\n",
    "    print(i)"
   ]
  },
  {
   "cell_type": "markdown",
   "id": "0efae1f6",
   "metadata": {},
   "source": [
    "Write a program that prints all the numbers from 1 to 10 using a while loop."
   ]
  },
  {
   "cell_type": "code",
   "execution_count": 20,
   "id": "479d4f21",
   "metadata": {},
   "outputs": [
    {
     "name": "stdout",
     "output_type": "stream",
     "text": [
      "1\n",
      "2\n",
      "3\n",
      "4\n",
      "5\n",
      "6\n",
      "7\n",
      "8\n",
      "9\n",
      "10\n"
     ]
    }
   ],
   "source": [
    "n = 10\n",
    "count = 0\n",
    "while count<n:\n",
    "    count = count+1\n",
    "    print(count)"
   ]
  },
  {
   "cell_type": "markdown",
   "id": "e16c5a3e",
   "metadata": {},
   "source": [
    "Write a program that prints a 5x5 grid of asterisks (*) using nested loops.\n"
   ]
  },
  {
   "cell_type": "code",
   "execution_count": 40,
   "id": "19468ce0",
   "metadata": {},
   "outputs": [
    {
     "name": "stdout",
     "output_type": "stream",
     "text": [
      "* * * * * \n",
      "* * * * * \n",
      "* * * * * \n",
      "* * * * * \n",
      "* * * * * \n"
     ]
    }
   ],
   "source": [
    "for i in range(5):\n",
    "    for j in range(5):\n",
    "        print(\"*\",end=\" \")\n",
    "    print()"
   ]
  },
  {
   "cell_type": "markdown",
   "id": "c9d0bb7c",
   "metadata": {},
   "source": [
    "Write a program that asks the user to input numbers until they input 0. The program should print the sum of all the input numbers.\n"
   ]
  },
  {
   "cell_type": "code",
   "execution_count": 42,
   "id": "059baeb8",
   "metadata": {},
   "outputs": [
    {
     "name": "stdout",
     "output_type": "stream",
     "text": [
      "60\n"
     ]
    }
   ],
   "source": [
    "\n",
    "sum = 0\n",
    "while num!=0:\n",
    "    num = int(input(\"Enter Num :\"))\n",
    "    sum = sum + num\n",
    "\n",
    "print(sum)"
   ]
  },
  {
   "cell_type": "markdown",
   "id": "dc957d72",
   "metadata": {},
   "source": [
    "Write a program that prints all the numbers from 1 to 10 except 5 using a for loop and continue statement."
   ]
  },
  {
   "cell_type": "code",
   "execution_count": 43,
   "id": "83211a7b",
   "metadata": {},
   "outputs": [
    {
     "name": "stdout",
     "output_type": "stream",
     "text": [
      "0\n",
      "1\n",
      "2\n",
      "3\n",
      "4\n",
      "6\n",
      "7\n",
      "8\n",
      "9\n"
     ]
    }
   ],
   "source": [
    "for i in range(10):\n",
    "    if i==5:\n",
    "        continue\n",
    "    else:\n",
    "        print(i)"
   ]
  },
  {
   "cell_type": "markdown",
   "id": "1cd80029",
   "metadata": {},
   "source": [
    "Write a program that defines an empty function using the pass statement"
   ]
  },
  {
   "cell_type": "code",
   "execution_count": 45,
   "id": "8d15b663",
   "metadata": {},
   "outputs": [],
   "source": [
    "def empty():\n",
    "    pass\n",
    "\n",
    "empty()"
   ]
  },
  {
   "cell_type": "markdown",
   "id": "7c4fb459",
   "metadata": {},
   "source": [
    "Write a program that asks the user to input a number and prints all the even numbers from 1 to that number using a for loop."
   ]
  },
  {
   "cell_type": "code",
   "execution_count": 47,
   "id": "7888c0b8",
   "metadata": {},
   "outputs": [
    {
     "name": "stdout",
     "output_type": "stream",
     "text": [
      "2\n",
      "4\n",
      "6\n",
      "8\n"
     ]
    }
   ],
   "source": [
    "num = int(input(\"enter num :\"))\n",
    "for i in range(1,num):\n",
    "    if i%2==0:\n",
    "        print(i)"
   ]
  },
  {
   "cell_type": "markdown",
   "id": "19903e58",
   "metadata": {},
   "source": [
    "Write a program that calculates the factorial of a number input by the user using a while loop."
   ]
  },
  {
   "cell_type": "code",
   "execution_count": 55,
   "id": "606f2a9a",
   "metadata": {},
   "outputs": [
    {
     "name": "stdout",
     "output_type": "stream",
     "text": [
      "120\n"
     ]
    }
   ],
   "source": [
    "num = int(input(\"Enter Num\"))\n",
    "count = 1\n",
    "fact = 1\n",
    "while count<=num:\n",
    "    fact = fact * count\n",
    "    count += 1\n",
    "print(fact)\n"
   ]
  },
  {
   "cell_type": "markdown",
   "id": "4c0db968",
   "metadata": {},
   "source": [
    "Write a program that calculates the sum of the digits of a number input by the user using a while loop."
   ]
  },
  {
   "cell_type": "code",
   "execution_count": 59,
   "id": "6a1b715a",
   "metadata": {},
   "outputs": [
    {
     "name": "stdout",
     "output_type": "stream",
     "text": [
      "6\n"
     ]
    }
   ],
   "source": [
    "num = int(input(\"Enter Num\"))\n",
    "temp = num\n",
    "sum = 0\n",
    "while temp!=0:\n",
    "    sum = sum + temp%10\n",
    "    temp = temp//10\n",
    "print(sum)"
   ]
  },
  {
   "cell_type": "code",
   "execution_count": 58,
   "id": "1db5cc8b",
   "metadata": {},
   "outputs": [
    {
     "data": {
      "text/plain": [
       "3"
      ]
     },
     "execution_count": 58,
     "metadata": {},
     "output_type": "execute_result"
    }
   ],
   "source": [
    "n = 123\n",
    "n%10"
   ]
  },
  {
   "cell_type": "markdown",
   "id": "55fab220",
   "metadata": {},
   "source": [
    "Write a program that checks if a number input by the user is a prime number using a for loop."
   ]
  },
  {
   "cell_type": "code",
   "execution_count": 62,
   "id": "4f92f1a0",
   "metadata": {},
   "outputs": [
    {
     "name": "stdout",
     "output_type": "stream",
     "text": [
      "num is prime\n"
     ]
    }
   ],
   "source": [
    "n = int(input())\n",
    "for i in range(2,n//2+1):\n",
    "    if n%i==0:\n",
    "        print(\"num is Not Prime\")\n",
    "else:\n",
    "    print(\"num is prime\")"
   ]
  },
  {
   "cell_type": "markdown",
   "id": "fd09d23c",
   "metadata": {},
   "source": [
    "Write a program that prints the first n Fibonacci numbers, where n is input by the user."
   ]
  },
  {
   "cell_type": "code",
   "execution_count": 68,
   "id": "1ddfd8b1",
   "metadata": {},
   "outputs": [
    {
     "name": "stdout",
     "output_type": "stream",
     "text": [
      "1\n",
      "2\n",
      "3\n",
      "5\n",
      "8\n",
      "13\n",
      "21\n",
      "34\n",
      "55\n",
      "89\n"
     ]
    }
   ],
   "source": [
    "n = int(input(\"enter Num\"))\n",
    "a,b=0,1\n",
    "\n",
    "if n<0:\n",
    "    print(\"Enter num greater than 0\")\n",
    "elif n==1:\n",
    "    print(a)\n",
    "    \n",
    "else:\n",
    "     for i in range (n):\n",
    "         c=a+b\n",
    "         a=b\n",
    "         b=c \n",
    "         print(c)"
   ]
  },
  {
   "cell_type": "code",
   "execution_count": null,
   "id": "bcdbb9f3",
   "metadata": {},
   "outputs": [],
   "source": []
  }
 ],
 "metadata": {
  "kernelspec": {
   "display_name": "Python 3",
   "language": "python",
   "name": "python3"
  },
  "language_info": {
   "codemirror_mode": {
    "name": "ipython",
    "version": 3
   },
   "file_extension": ".py",
   "mimetype": "text/x-python",
   "name": "python",
   "nbconvert_exporter": "python",
   "pygments_lexer": "ipython3",
   "version": "3.12.4"
  }
 },
 "nbformat": 4,
 "nbformat_minor": 5
}
